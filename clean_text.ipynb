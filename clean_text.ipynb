{
 "cells": [
  {
   "cell_type": "code",
   "execution_count": 10,
   "id": "4abc42b3",
   "metadata": {},
   "outputs": [],
   "source": [
    "import pandas as pd\n",
    "df = pd.read_csv (\"sob_rock.csv\")\n",
    "#print(df)"
   ]
  },
  {
   "cell_type": "code",
   "execution_count": 11,
   "id": "d9ee2fd5",
   "metadata": {},
   "outputs": [],
   "source": [
    "# Round1: Remove words in the [], because those words are not part of lyrics\n",
    "import re\n",
    "cleaned = []\n",
    "txt = list(df['total_verse'])\n",
    "for i  in txt:\n",
    "    cleaned.append(re.sub('\\[.*?\\]', '', i))\n",
    "df['round1'] = cleaned\n",
    "#print (df)"
   ]
  },
  {
   "cell_type": "code",
   "execution_count": 12,
   "id": "4a1383fc",
   "metadata": {},
   "outputs": [
    {
     "name": "stderr",
     "output_type": "stream",
     "text": [
      "/Users/XXXXX/opt/anaconda3/lib/python3.7/site-packages/ipykernel_launcher.py:2: FutureWarning: The default value of regex will change from True to False in a future version.\n",
      "  \n"
     ]
    }
   ],
   "source": [
    "# Round2: Remove punctuation: \",\" , \"'\", \"...\"\n",
    "df['round2']=df['round1'].str.replace('[^\\w\\s]','')\n",
    "#print(df['round2'])"
   ]
  },
  {
   "cell_type": "code",
   "execution_count": 13,
   "id": "d129e3cc",
   "metadata": {},
   "outputs": [
    {
     "name": "stderr",
     "output_type": "stream",
     "text": [
      "/Users/XXXXX/opt/anaconda3/lib/python3.7/site-packages/ipykernel_launcher.py:3: FutureWarning: The default value of regex will change from True to False in a future version.\n",
      "  This is separate from the ipykernel package so we can avoid doing imports until\n"
     ]
    }
   ],
   "source": [
    "# Round3: We notice some lyrics are constructed like \"meThen\", \"beforeLaying\".\n",
    "        # To solve this problem, we put a space in front of every capital letter. \n",
    "df['round3'] = df['round2'].str.replace( r\"([A-Z])\", r\" \\1\").str.strip()\n",
    "#print(df['round3'])\n",
    "          "
   ]
  },
  {
   "cell_type": "code",
   "execution_count": 14,
   "id": "a07c787c",
   "metadata": {},
   "outputs": [],
   "source": [
    "# Round4: We lowercase the capitalized words\n",
    "df ['round4']= df['round3'].str.lower()\n",
    "#print (df['round4'])"
   ]
  },
  {
   "cell_type": "code",
   "execution_count": 15,
   "id": "ad69716d",
   "metadata": {},
   "outputs": [
    {
     "name": "stdout",
     "output_type": "stream",
     "text": [
      "                      song_name  \\\n",
      "0               last_train_home   \n",
      "1   shouldnt_matter_but_it_does   \n",
      "2                     wild_blue   \n",
      "3            why_you_no_love_me   \n",
      "4                 carry_me_away   \n",
      "5       til_the_right_one_comes   \n",
      "6                     new_light   \n",
      "7              shot_in_the_dark   \n",
      "8      i_guess_i_just_feel_like   \n",
      "9  all_i_want_is_to_be_with_you   \n",
      "\n",
      "                                         total_verse  \\\n",
      "0  [Verse 1]If you wanna roll meThen you gotta ro...   \n",
      "1  [Verse 1]Shoulda been openShoulda done moreSho...   \n",
      "2  [Verse 1]Never seen the sun beforeLaying on th...   \n",
      "3  [Verse 1]Help me understand itWoke up empty-ha...   \n",
      "4  [Verse 1]I'm such a bore, I'm such a bummerThe...   \n",
      "5  [Verse 1]Well the lucky in love called themsel...   \n",
      "6  [Intro]Ah, ah, ahAh...[Verse 1]I'm the boy in ...   \n",
      "7  [Verse 1]It's a hard runLoving like we doTakes...   \n",
      "8  [Verse 1]I guess I just feel likeI guess I jus...   \n",
      "9  [Verse 1]I can fake it and pretendI don’t wann...   \n",
      "\n",
      "                                              round1  \\\n",
      "0  If you wanna roll meThen you gotta roll me all...   \n",
      "1  Shoulda been openShoulda done moreShoulda lear...   \n",
      "2  Never seen the sun beforeLaying on the ocean f...   \n",
      "3  Help me understand itWoke up empty-handedNever...   \n",
      "4  I'm such a bore, I'm such a bummerThere must b...   \n",
      "5  Well the lucky in love called themselves winne...   \n",
      "6  Ah, ah, ahAh...I'm the boy in your other phone...   \n",
      "7  It's a hard runLoving like we doTakes way too ...   \n",
      "8  I guess I just feel likeI guess I just feel li...   \n",
      "9  I can fake it and pretendI don’t wanna see you...   \n",
      "\n",
      "                                              round2  \\\n",
      "0  If you wanna roll meThen you gotta roll me all...   \n",
      "1  Shoulda been openShoulda done moreShoulda lear...   \n",
      "2  Never seen the sun beforeLaying on the ocean f...   \n",
      "3  Help me understand itWoke up emptyhandedNever ...   \n",
      "4  Im such a bore Im such a bummerThere must be m...   \n",
      "5  Well the lucky in love called themselves winne...   \n",
      "6  Ah ah ahAhIm the boy in your other phoneLighti...   \n",
      "7  Its a hard runLoving like we doTakes way too l...   \n",
      "8  I guess I just feel likeI guess I just feel li...   \n",
      "9  I can fake it and pretendI dont wanna see your...   \n",
      "\n",
      "                                              round3  \\\n",
      "0  If you wanna roll me Then you gotta roll me al...   \n",
      "1  Shoulda been open Shoulda done more Shoulda le...   \n",
      "2  Never seen the sun before Laying on the ocean ...   \n",
      "3  Help me understand it Woke up emptyhanded Neve...   \n",
      "4  Im such a bore  Im such a bummer There must be...   \n",
      "5  Well the lucky in love called themselves winne...   \n",
      "6  Ah ah ah Ah Im the boy in your other phone Lig...   \n",
      "7  Its a hard run Loving like we do Takes way too...   \n",
      "8  I guess  I just feel like I guess  I just feel...   \n",
      "9  I can fake it and pretend I dont wanna see you...   \n",
      "\n",
      "                                              round4  \\\n",
      "0  if you wanna roll me then you gotta roll me al...   \n",
      "1  shoulda been open shoulda done more shoulda le...   \n",
      "2  never seen the sun before laying on the ocean ...   \n",
      "3  help me understand it woke up emptyhanded neve...   \n",
      "4  im such a bore  im such a bummer there must be...   \n",
      "5  well the lucky in love called themselves winne...   \n",
      "6  ah ah ah ah im the boy in your other phone lig...   \n",
      "7  its a hard run loving like we do takes way too...   \n",
      "8  i guess  i just feel like i guess  i just feel...   \n",
      "9  i can fake it and pretend i dont wanna see you...   \n",
      "\n",
      "                                              round5  \n",
      "0  wanna roll gotta roll night long wanna use got...  \n",
      "1  shoulda open shoulda done shoulda learned less...  \n",
      "2  never seen sun laying ocean floor walking wild...  \n",
      "3  help understand woke emptyhanded never heard s...  \n",
      "4  im bore im bummer must behind summer want some...  \n",
      "5  well lucky love called winners losers sinners ...  \n",
      "6  ah ah ah ah im boy phone lighting inside drawe...  \n",
      "7  hard run loving like takes way long get rememb...  \n",
      "8  guess feel like guess feel like nobodys honest...  \n",
      "9  fake pretend dont wanna see face find someone ...  \n"
     ]
    }
   ],
   "source": [
    "# Round5: Remove stopwords \n",
    "# Stopwords are words that have little meaning to the context such as \"the\", \"is\", and \"and\"\n",
    "from nltk.corpus import stopwords\n",
    "stop_words = stopwords.words('english')\n",
    "\n",
    "# Remove Stopwords\n",
    "df['round5'] = df['round4'].apply(lambda x: \" \".join(word for word in x.split() if word not in stop_words))\n",
    "#print(df)"
   ]
  },
  {
   "cell_type": "code",
   "execution_count": 18,
   "id": "4f1ff68a",
   "metadata": {},
   "outputs": [
    {
     "name": "stdout",
     "output_type": "stream",
     "text": [
      "0    roll gotta roll night long use gotta use till ...\n",
      "1    shoulda open shoulda done shoulda learned less...\n",
      "2    never seen sun laying ocean floor walking wild...\n",
      "3    help understand woke emptyhanded never heard s...\n",
      "4    im bore im bummer must behind summer want some...\n",
      "5    well lucky love called winners losers sinners ...\n",
      "6    im boy phone lighting inside drawer home alone...\n",
      "7    hard run loving takes way long get remember li...\n",
      "8    guess feel guess feel nobodys honest nobodys t...\n",
      "9    fake pretend dont see face find someone new wa...\n",
      "Name: round6, dtype: object\n"
     ]
    }
   ],
   "source": [
    "#Round6: Second around of removing stopwords\n",
    "        #Let's see if there are more words that are better removed\n",
    "#First join verses together and convert into an array \n",
    "#Then put the result in a series so that we can see what are the common used words in the lyrics \n",
    "word_list=\" \".join(df['round5']).split()\n",
    "#print (word_list)\n",
    "pd.Series(word_list).value_counts()[:30]\n",
    "#And we see there are words such as \"oh\", \"til\", \"like\",\"til\", \"ay\", \"ah\", \"yeah\", \"wanna\"\n",
    "#So we store them in a list and remove those words in the lyrics\n",
    "other_stopwords = [\"oh\", \"til\", \"like\",\"til\", \"ay\", \"ah\", \"yeah\", \"wanna\"]\n",
    "df['round6'] = df['round5'].apply(lambda x: \"\".join(\" \".join(word for word in x.split() if word not in other_stopwords)))\n",
    "#print(df['round6'] )"
   ]
  },
  {
   "cell_type": "code",
   "execution_count": 19,
   "id": "ddbe4576",
   "metadata": {},
   "outputs": [],
   "source": [
    "#Then we save what we cleaned to a new CSV.file\n",
    "df.to_csv('verse_cleaned.csv', index=False, encoding = 'utf-8-sig')"
   ]
  },
  {
   "cell_type": "code",
   "execution_count": null,
   "id": "96882cf5",
   "metadata": {},
   "outputs": [],
   "source": []
  }
 ],
 "metadata": {
  "kernelspec": {
   "display_name": "Python 3 (ipykernel)",
   "language": "python",
   "name": "python3"
  },
  "language_info": {
   "codemirror_mode": {
    "name": "ipython",
    "version": 3
   },
   "file_extension": ".py",
   "mimetype": "text/x-python",
   "name": "python",
   "nbconvert_exporter": "python",
   "pygments_lexer": "ipython3",
   "version": "3.7.4"
  }
 },
 "nbformat": 4,
 "nbformat_minor": 5
}
